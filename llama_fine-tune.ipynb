{
 "cells": [
  {
   "cell_type": "markdown",
   "id": "8d977ce3-fe00-44a3-8b0f-a9b31205025f",
   "metadata": {},
   "source": [
    "# Fine-tune Llama 3.1 Ultra-Efficiently with Unsloth\n",
    "Based on Maxime Labonne's tutorial [Fine-tune Llama 3.1 Ultra-Efficiently with Unsloth](https://huggingface.co/blog/mlabonne/sft-llama3?fbclid=IwY2xjawHYtcpleHRuA2FlbQIxMAABHfwNb30hYueISBpSSgUvHkfykh030kxaXa05J0GWqpzU9kp8I97lV_6M0Q_aem_BHTpZdPOl527YUVoOciAUQ), thank you.\n"
   ]
  },
  {
   "cell_type": "code",
   "execution_count": null,
   "id": "ed421cb3-704b-4b9b-a00d-49120e90fe09",
   "metadata": {},
   "outputs": [],
   "source": [
    "!pip install -qqq \"unsloth[colab-new] @ git+https://github.com/unslothai/unsloth.git\" --progress-bar off\n",
    "from torch import __version__; from packaging.version import Version as V\n",
    "xformers = \"xformers==0.0.27\" if V(__version__) < V(\"2.4.0\") else \"xformers\"\n",
    "!pip install -qqq --no-deps {xformers} trl peft accelerate bitsandbytes triton --progress-bar off\n",
    "\n",
    "import torch\n",
    "from trl import SFTTrainer\n",
    "from datasets import load_dataset\n",
    "from transformers import TrainingArguments, TextStreamer\n",
    "from unsloth.chat_templates import get_chat_template\n",
    "from unsloth import FastLanguageModel, is_bfloat16_supported"
   ]
  },
  {
   "cell_type": "markdown",
   "id": "c93681f2-b553-4033-a9c6-b553bce992d4",
   "metadata": {},
   "source": [
    "## Load the model"
   ]
  },
  {
   "cell_type": "code",
   "execution_count": null,
   "id": "f3985c67-b7bf-4115-aae6-4e670578610f",
   "metadata": {},
   "outputs": [],
   "source": [
    "max_seq_length = 1024\n",
    "model, tokenizer = FastLanguageModel.from_pretrained(\n",
    "    model_name=\"unsloth/Meta-Llama-3.1-8B-bnb-4bit\",\n",
    "    max_seq_length=max_seq_length,\n",
    "    load_in_4bit=True,\n",
    "    dtype=None,\n",
    ")"
   ]
  },
  {
   "cell_type": "markdown",
   "id": "a720a164-0d48-422f-a919-d141f8d761b6",
   "metadata": {},
   "source": [
    "## Attach adapters in order to perform QLoRA fine-tuning"
   ]
  },
  {
   "cell_type": "code",
   "execution_count": null,
   "id": "9b3e2fa1-83a2-4646-86c8-c5df6f347563",
   "metadata": {},
   "outputs": [],
   "source": [
    "model = FastLanguageModel.get_peft_model(\n",
    "    model,\n",
    "    r=16,\n",
    "    lora_alpha=16,\n",
    "    lora_dropout=0,\n",
    "    target_modules=[\"q_proj\", \"k_proj\", \"v_proj\", \"up_proj\", \"down_proj\", \"o_proj\", \"gate_proj\"], \n",
    "    use_rslora=True,\n",
    "    use_gradient_checkpointing=\"unsloth\"\n",
    ")"
   ]
  },
  {
   "cell_type": "markdown",
   "id": "66ec42c7-1a9f-4fa1-964f-92bd4d15f3d3",
   "metadata": {},
   "source": [
    "## Load and prepare dataset"
   ]
  },
  {
   "cell_type": "code",
   "execution_count": null,
   "id": "8dbd18a9-d111-4dde-ab8d-36a013a6440a",
   "metadata": {},
   "outputs": [],
   "source": [
    "tokenizer = get_chat_template(\n",
    "    tokenizer,\n",
    "    mapping={\"role\": \"from\", \"content\": \"value\", \"user\": \"human\", \"assistant\": \"gpt\"},\n",
    "    chat_template=\"chatml\",\n",
    ")\n",
    "\n",
    "def apply_template(examples):\n",
    "    messages = examples[\"conversations\"]\n",
    "    text = [tokenizer.apply_chat_template(message, tokenize=False, add_generation_prompt=False) for message in messages]\n",
    "    return {\"text\": text}\n",
    "\n",
    "#dataset = load_dataset(\"mlabonne/FineTome-100k\", split=\"train\")\n",
    "dataset = load_dataset(\"mlabonne/FineTome-100k\", split=\"train[:1000]\") # only load 1k samples.\n",
    "dataset = dataset.map(apply_template, batched=True)"
   ]
  },
  {
   "cell_type": "markdown",
   "id": "15c2df29-1088-4499-a086-be9e9bc96fb0",
   "metadata": {},
   "source": [
    "## Preview single item from the dataset."
   ]
  },
  {
   "cell_type": "code",
   "execution_count": null,
   "id": "cf3cf52f-3227-4688-9e8c-817af7b3bb84",
   "metadata": {},
   "outputs": [],
   "source": [
    "dataset[0]"
   ]
  },
  {
   "cell_type": "markdown",
   "id": "b12fe2a4-8043-4d89-a335-4123508656ff",
   "metadata": {},
   "source": [
    "## Train the model"
   ]
  },
  {
   "cell_type": "code",
   "execution_count": null,
   "id": "d40146ab-1274-41f2-8d3b-a124e07a6446",
   "metadata": {
    "scrolled": true
   },
   "outputs": [],
   "source": [
    "trainer=SFTTrainer(\n",
    "    model=model,\n",
    "    tokenizer=tokenizer,\n",
    "    train_dataset=dataset,\n",
    "    dataset_text_field=\"text\",\n",
    "    max_seq_length=max_seq_length,\n",
    "    dataset_num_proc=4,\n",
    "    packing=True,\n",
    "    args=TrainingArguments(\n",
    "        learning_rate=3e-4,\n",
    "        lr_scheduler_type=\"linear\",\n",
    "        per_device_train_batch_size=4,\n",
    "        gradient_accumulation_steps=2,\n",
    "        num_train_epochs=1,\n",
    "        fp16=not is_bfloat16_supported(),\n",
    "        bf16=is_bfloat16_supported(),\n",
    "        logging_steps=1,\n",
    "        optim=\"adamw_8bit\",\n",
    "        weight_decay=0.01,\n",
    "        warmup_steps=10,\n",
    "        output_dir=\"output\",\n",
    "        seed=0,\n",
    "    ),\n",
    ")\n",
    "\n",
    "trainer.train()"
   ]
  },
  {
   "cell_type": "markdown",
   "id": "307fc19e-9005-469e-9eeb-c1d1fde821ae",
   "metadata": {},
   "source": [
    "## Perform inference test"
   ]
  },
  {
   "cell_type": "code",
   "execution_count": null,
   "id": "b43b9c6a-c648-43c4-9e70-94c53ee89485",
   "metadata": {},
   "outputs": [],
   "source": [
    "model = FastLanguageModel.for_inference(model)\n",
    "\n",
    "messages = [\n",
    "    {\"from\": \"human\", \"value\": \"Is 9.11 larger than 9.9?\"},\n",
    "]\n",
    "inputs = tokenizer.apply_chat_template(\n",
    "    messages,\n",
    "    tokenize=True,\n",
    "    add_generation_prompt=True,\n",
    "    return_tensors=\"pt\",\n",
    ").to(\"cuda\")\n",
    "\n",
    "text_streamer = TextStreamer(tokenizer)\n",
    "_ = model.generate(input_ids=inputs, streamer=text_streamer, max_new_tokens=128, use_cache=True)"
   ]
  },
  {
   "cell_type": "markdown",
   "id": "b76ab4b6-cf5e-4b40-bdaa-25b343d6b512",
   "metadata": {},
   "source": [
    "## Save the trained model"
   ]
  },
  {
   "cell_type": "code",
   "execution_count": null,
   "id": "965b00a7-2d6a-4ab9-b951-7e2fe4461c62",
   "metadata": {},
   "outputs": [],
   "source": [
    "# Save model locally\n",
    "model.save_pretrained_merged(\"model\", tokenizer, save_method=\"merged_16bit\")\n",
    "# Upload it to the Hugging Face Hub\n",
    "model.push_to_hub_merged(\"<your_hugging_face_username>/FineLlama-3.1-8B\", tokenizer, save_method=\"merged_16bit\")"
   ]
  },
  {
   "cell_type": "markdown",
   "id": "64411108-9690-47f7-97c0-590009ef4698",
   "metadata": {},
   "source": [
    "## Save and push quantized in GGUF format to the Hugging Face"
   ]
  },
  {
   "cell_type": "code",
   "execution_count": null,
   "id": "086fcd33-c1b4-48ad-acfb-d1b5a42e3ac0",
   "metadata": {},
   "outputs": [],
   "source": [
    "quant_methods = [\"q2_k\", \"q3_k_m\", \"q4_k_m\", \"q5_k_m\", \"q6_k\", \"q8_0\"]\n",
    "for quant in quant_methods:\n",
    "    model.push_to_hub_gguf(\"<your_hugging_face_username>/FineLlama-3.1-8B-GGUF\", tokenizer, quant)"
   ]
  }
 ],
 "metadata": {
  "kernelspec": {
   "display_name": "Python 3 (ipykernel)",
   "language": "python",
   "name": "python3"
  },
  "language_info": {
   "codemirror_mode": {
    "name": "ipython",
    "version": 3
   },
   "file_extension": ".py",
   "mimetype": "text/x-python",
   "name": "python",
   "nbconvert_exporter": "python",
   "pygments_lexer": "ipython3",
   "version": "3.11.11"
  }
 },
 "nbformat": 4,
 "nbformat_minor": 5
}
